{
 "cells": [
  {
   "cell_type": "code",
   "execution_count": 1,
   "id": "0122a931",
   "metadata": {},
   "outputs": [],
   "source": [
    "import sys\n",
    "# import sibling folder\n",
    "sys.path.append(\"..\")"
   ]
  },
  {
   "cell_type": "code",
   "execution_count": 2,
   "id": "fd0ac2dd",
   "metadata": {},
   "outputs": [],
   "source": [
    "import os\n",
    "import numpy as np\n",
    "import pandas as pd\n",
    "from llama_cpp import Llama\n",
    "\n",
    "import experiments.utils as utils\n",
    "from pprint import pprint\n",
    "from IPython.display import display_markdown"
   ]
  },
  {
   "cell_type": "code",
   "execution_count": 3,
   "id": "214a89d1",
   "metadata": {},
   "outputs": [
    {
     "name": "stdout",
     "output_type": "stream",
     "text": [
      "/Users/mahat/Desktop/Dev/JB_Project/sentiment-analysis/notebooks\n"
     ]
    }
   ],
   "source": [
    "!pwd"
   ]
  },
  {
   "cell_type": "code",
   "execution_count": 4,
   "id": "bcbb9c40",
   "metadata": {},
   "outputs": [],
   "source": [
    "plots_base_path = '../docs/plots/experiments/simple_prompt'"
   ]
  },
  {
   "cell_type": "code",
   "execution_count": 5,
   "id": "892c94bc",
   "metadata": {},
   "outputs": [],
   "source": [
    "# init datasets\n",
    "valid_ds_mini, valid_ds_small, incontext_ds_small, valid_ds_big, incontext_ds_big = utils.load_ds()\n",
    "test_ds = utils.load_test()\n",
    "# model names\n",
    "small_model_repo_id=\"bartowski/Qwen2.5-0.5B-Instruct-GGUF\"\n",
    "small_model_file_name=\"Qwen2.5-0.5B-Instruct-IQ2_M.gguf\"\n",
    "\n",
    "big_model_repo_id=\"bartowski/Qwen2.5-1.5B-Instruct-GGUF\"\n",
    "big_model_file_name=\"Qwen2.5-1.5B-Instruct-IQ2_M.gguf\""
   ]
  },
  {
   "cell_type": "code",
   "execution_count": 6,
   "id": "2ad2f44c",
   "metadata": {},
   "outputs": [
    {
     "name": "stderr",
     "output_type": "stream",
     "text": [
      "llama_init_from_model: n_ctx_per_seq (4096) < n_ctx_train (32768) -- the full capacity of the model will not be utilized\n",
      "ggml_metal_init: skipping kernel_get_rows_bf16                     (not supported)\n",
      "ggml_metal_init: skipping kernel_mul_mv_bf16_f32                   (not supported)\n",
      "ggml_metal_init: skipping kernel_mul_mv_bf16_f32_1row              (not supported)\n",
      "ggml_metal_init: skipping kernel_mul_mv_bf16_f32_l4                (not supported)\n",
      "ggml_metal_init: skipping kernel_mul_mv_bf16_bf16                  (not supported)\n",
      "ggml_metal_init: skipping kernel_mul_mv_id_bf16_f32                (not supported)\n",
      "ggml_metal_init: skipping kernel_mul_mm_bf16_f32                   (not supported)\n",
      "ggml_metal_init: skipping kernel_mul_mm_id_bf16_f32                (not supported)\n",
      "ggml_metal_init: skipping kernel_flash_attn_ext_bf16_h64           (not supported)\n",
      "ggml_metal_init: skipping kernel_flash_attn_ext_bf16_h80           (not supported)\n",
      "ggml_metal_init: skipping kernel_flash_attn_ext_bf16_h96           (not supported)\n",
      "ggml_metal_init: skipping kernel_flash_attn_ext_bf16_h112          (not supported)\n",
      "ggml_metal_init: skipping kernel_flash_attn_ext_bf16_h128          (not supported)\n",
      "ggml_metal_init: skipping kernel_flash_attn_ext_bf16_h256          (not supported)\n",
      "ggml_metal_init: skipping kernel_flash_attn_ext_vec_bf16_h128      (not supported)\n",
      "ggml_metal_init: skipping kernel_flash_attn_ext_vec_bf16_h256      (not supported)\n",
      "ggml_metal_init: skipping kernel_cpy_f32_bf16                      (not supported)\n",
      "ggml_metal_init: skipping kernel_cpy_bf16_f32                      (not supported)\n",
      "ggml_metal_init: skipping kernel_cpy_bf16_bf16                     (not supported)\n"
     ]
    }
   ],
   "source": [
    "# setup big model\n",
    "big_llm = Llama.from_pretrained(\n",
    "    repo_id=big_model_repo_id,\n",
    "    filename=big_model_file_name,\n",
    "    n_ctx = 4096,\n",
    "    verbose=False,\n",
    "    seed=42\n",
    ")\n"
   ]
  },
  {
   "cell_type": "markdown",
   "id": "cda2b133",
   "metadata": {},
   "source": [
    "## Simple Prompt using Big Model"
   ]
  },
  {
   "cell_type": "code",
   "execution_count": 7,
   "id": "671021a7",
   "metadata": {},
   "outputs": [
    {
     "data": {
      "text/markdown": [
       "### System and User Prompts"
      ]
     },
     "metadata": {},
     "output_type": "display_data"
    },
    {
     "data": {
      "text/markdown": [
       "**System Prompt**: You are a helpful large language model that understands sentiment of a review inside <review>...</review> tags. \n",
       "Your final answer must be either Negative or Positive based on the sentiment of the review."
      ]
     },
     "metadata": {},
     "output_type": "display_data"
    },
    {
     "data": {
      "text/markdown": [
       "**User Prompt**: <review>{review}</review> \n",
       "\n",
       "Your final answer is"
      ]
     },
     "metadata": {},
     "output_type": "display_data"
    }
   ],
   "source": [
    "# experiment init\n",
    "from experiments.simple_prompt_experiment import SimplePromptExperiment\n",
    "simple_prompt_exp  = SimplePromptExperiment(model=big_llm, n_ctx=4096, valid_ds=valid_ds_big)\n",
    "\n",
    "display_markdown(f\"### System and User Prompts\", raw=True)\n",
    "display_markdown(f\"**System Prompt**: {simple_prompt_exp.system_prompt}\", raw=True)\n",
    "display_markdown(f\"**User Prompt**: {simple_prompt_exp.user_prompt}\", raw=True)"
   ]
  },
  {
   "cell_type": "code",
   "execution_count": 8,
   "id": "37bc07f8",
   "metadata": {},
   "outputs": [
    {
     "name": "stderr",
     "output_type": "stream",
     "text": [
      "running validation set: 100%|██████████| 512/512 [07:13<00:00,  1.18it/s]"
     ]
    },
    {
     "name": "stdout",
     "output_type": "stream",
     "text": [
      "{'accuracy': 0.91015625,\n",
      " 'confusion_matrix': array([[218,  38],\n",
      "       [  8, 248]]),\n",
      " 'f1_score': 0.915129151291513,\n",
      " 'precision': 0.8671328671328671,\n",
      " 'recall': 0.96875,\n",
      " 'valid_answer_ratio': np.float64(1.0)}\n"
     ]
    },
    {
     "name": "stderr",
     "output_type": "stream",
     "text": [
      "\n"
     ]
    },
    {
     "data": {
      "image/png": "[encoded data removed]",
      "text/plain": [
       "<Figure size 640x480 with 2 Axes>"
      ]
     },
     "metadata": {},
     "output_type": "display_data"
    }
   ],
   "source": [
    "# running model with default parameeters\n",
    "simple_prompt_eval = simple_prompt_exp().eval()\n",
    "pprint(simple_prompt_eval)\n",
    "big_model_cm_fig=utils.plot_cm(simple_prompt_eval['confusion_matrix'])\n",
    "big_model_cm_fig.savefig(f\"{plots_base_path}/cm_big_default.png\")"
   ]
  },
  {
   "cell_type": "code",
   "execution_count": 9,
   "id": "43638dcd",
   "metadata": {},
   "outputs": [
    {
     "name": "stderr",
     "output_type": "stream",
     "text": [
      "running validation set: 100%|██████████| 256/256 [04:13<00:00,  1.01it/s]"
     ]
    },
    {
     "name": "stdout",
     "output_type": "stream",
     "text": [
      "{'accuracy': 0.90625,\n",
      " 'confusion_matrix': array([[135,  21],\n",
      "       [  3,  97]]),\n",
      " 'f1_score': 0.8899082568807339,\n",
      " 'precision': 0.8220338983050848,\n",
      " 'recall': 0.97,\n",
      " 'valid_answer_ratio': np.float64(1.0)}\n"
     ]
    },
    {
     "name": "stderr",
     "output_type": "stream",
     "text": [
      "\n"
     ]
    },
    {
     "data": {
      "image/png": "[encoded data removed]",
      "text/plain": [
       "<Figure size 640x480 with 2 Axes>"
      ]
     },
     "metadata": {},
     "output_type": "display_data"
    }
   ],
   "source": [
    "simple_prompt_exp.valid_ds = test_ds\n",
    "simple_prompt_test = simple_prompt_exp().eval()\n",
    "big_model_test_fig=utils.plot_cm(simple_prompt_test['confusion_matrix'])\n",
    "big_model_test_fig.savefig(f\"{plots_base_path}/cm_big_test.png\")\n",
    "pprint(simple_prompt_test)"
   ]
  },
  {
   "cell_type": "markdown",
   "id": "4a14307d",
   "metadata": {},
   "source": [
    "### Small Model Run for Simple Prompt"
   ]
  },
  {
   "cell_type": "code",
   "execution_count": 10,
   "id": "bc296a5f",
   "metadata": {},
   "outputs": [
    {
     "name": "stderr",
     "output_type": "stream",
     "text": [
      "llama_init_from_model: n_ctx_per_seq (4096) < n_ctx_train (32768) -- the full capacity of the model will not be utilized\n",
      "ggml_metal_init: skipping kernel_get_rows_bf16                     (not supported)\n",
      "ggml_metal_init: skipping kernel_mul_mv_bf16_f32                   (not supported)\n",
      "ggml_metal_init: skipping kernel_mul_mv_bf16_f32_1row              (not supported)\n",
      "ggml_metal_init: skipping kernel_mul_mv_bf16_f32_l4                (not supported)\n",
      "ggml_metal_init: skipping kernel_mul_mv_bf16_bf16                  (not supported)\n",
      "ggml_metal_init: skipping kernel_mul_mv_id_bf16_f32                (not supported)\n",
      "ggml_metal_init: skipping kernel_mul_mm_bf16_f32                   (not supported)\n",
      "ggml_metal_init: skipping kernel_mul_mm_id_bf16_f32                (not supported)\n",
      "ggml_metal_init: skipping kernel_flash_attn_ext_bf16_h64           (not supported)\n",
      "ggml_metal_init: skipping kernel_flash_attn_ext_bf16_h80           (not supported)\n",
      "ggml_metal_init: skipping kernel_flash_attn_ext_bf16_h96           (not supported)\n",
      "ggml_metal_init: skipping kernel_flash_attn_ext_bf16_h112          (not supported)\n",
      "ggml_metal_init: skipping kernel_flash_attn_ext_bf16_h128          (not supported)\n",
      "ggml_metal_init: skipping kernel_flash_attn_ext_bf16_h256          (not supported)\n",
      "ggml_metal_init: skipping kernel_flash_attn_ext_vec_bf16_h128      (not supported)\n",
      "ggml_metal_init: skipping kernel_flash_attn_ext_vec_bf16_h256      (not supported)\n",
      "ggml_metal_init: skipping kernel_cpy_f32_bf16                      (not supported)\n",
      "ggml_metal_init: skipping kernel_cpy_bf16_f32                      (not supported)\n",
      "ggml_metal_init: skipping kernel_cpy_bf16_bf16                     (not supported)\n",
      "running validation set: 100%|██████████| 128/128 [00:49<00:00,  2.56it/s]"
     ]
    },
    {
     "name": "stdout",
     "output_type": "stream",
     "text": [
      "{'accuracy': 0.8145161290322581,\n",
      " 'confusion_matrix': array([[58,  4],\n",
      "       [19, 43]]),\n",
      " 'f1_score': 0.7889908256880734,\n",
      " 'precision': 0.9148936170212766,\n",
      " 'recall': 0.6935483870967742,\n",
      " 'valid_answer_ratio': np.float64(0.96875)}\n"
     ]
    },
    {
     "name": "stderr",
     "output_type": "stream",
     "text": [
      "\n"
     ]
    },
    {
     "data": {
      "image/png": "[encoded data removed]",
      "text/plain": [
       "<Figure size 640x480 with 2 Axes>"
      ]
     },
     "metadata": {},
     "output_type": "display_data"
    }
   ],
   "source": [
    "small_llm = Llama.from_pretrained(\n",
    "    repo_id=small_model_repo_id,\n",
    "    filename=small_model_file_name,\n",
    "    n_ctx = 4096,\n",
    "    verbose=False\n",
    ")\n",
    "simple_prompt_exp = SimplePromptExperiment(model=small_llm, n_ctx=4096, valid_ds=valid_ds_small)\n",
    "# append stop\n",
    "# simple_prompt_exp.stop = stop_words\n",
    "simple_prompt_eval = simple_prompt_exp().eval()\n",
    "pprint(simple_prompt_eval)\n",
    "small_model_cm_fig=utils.plot_cm(simple_prompt_eval['confusion_matrix'])\n",
    "small_model_cm_fig.savefig(f'{plots_base_path}/cm_small_default.png')"
   ]
  },
  {
   "cell_type": "markdown",
   "id": "1c8a5a20",
   "metadata": {},
   "source": [
    "### Measuring affect of temparature for small model"
   ]
  },
  {
   "cell_type": "code",
   "execution_count": 11,
   "id": "02d400f9",
   "metadata": {},
   "outputs": [
    {
     "name": "stdout",
     "output_type": "stream",
     "text": [
      "0.2\n"
     ]
    },
    {
     "name": "stderr",
     "output_type": "stream",
     "text": [
      "running validation set: 100%|██████████| 64/64 [00:30<00:00,  2.08it/s]\n"
     ]
    },
    {
     "name": "stdout",
     "output_type": "stream",
     "text": [
      "0.4\n"
     ]
    },
    {
     "name": "stderr",
     "output_type": "stream",
     "text": [
      "running validation set: 100%|██████████| 64/64 [00:28<00:00,  2.21it/s]\n"
     ]
    },
    {
     "name": "stdout",
     "output_type": "stream",
     "text": [
      "0.6000000000000001\n"
     ]
    },
    {
     "name": "stderr",
     "output_type": "stream",
     "text": [
      "running validation set: 100%|██████████| 64/64 [00:23<00:00,  2.69it/s]\n"
     ]
    },
    {
     "name": "stdout",
     "output_type": "stream",
     "text": [
      "0.8\n"
     ]
    },
    {
     "name": "stderr",
     "output_type": "stream",
     "text": [
      "running validation set: 100%|██████████| 64/64 [00:22<00:00,  2.86it/s]\n"
     ]
    },
    {
     "name": "stdout",
     "output_type": "stream",
     "text": [
      "1.0\n"
     ]
    },
    {
     "name": "stderr",
     "output_type": "stream",
     "text": [
      "running validation set: 100%|██████████| 64/64 [00:21<00:00,  3.01it/s]\n"
     ]
    },
    {
     "name": "stdout",
     "output_type": "stream",
     "text": [
      "1.2000000000000002\n"
     ]
    },
    {
     "name": "stderr",
     "output_type": "stream",
     "text": [
      "running validation set: 100%|██████████| 64/64 [00:19<00:00,  3.24it/s]\n"
     ]
    },
    {
     "data": {
      "image/png": "[encoded data removed]",
      "text/plain": [
       "<Figure size 640x480 with 1 Axes>"
      ]
     },
     "metadata": {},
     "output_type": "display_data"
    }
   ],
   "source": [
    "simple_prompt_exp = SimplePromptExperiment(model=small_llm, n_ctx=4096, valid_ds=valid_ds_mini)\n",
    "\n",
    "metric_sp_temp = utils.temp_check_helper(simple_prompt_exp)\n",
    "fig_temp = utils.plot_metrics(metric_sp_temp,x_key='temp',y_key='f1_score',title='Temp Param Check')\n",
    "fig_temp.savefig(f'{plots_base_path}/temp_param_plot.png')"
   ]
  },
  {
   "cell_type": "markdown",
   "id": "f46f5f34",
   "metadata": {},
   "source": [
    "### Measuring affect of min_p for small model"
   ]
  },
  {
   "cell_type": "code",
   "execution_count": 12,
   "id": "55ac2529",
   "metadata": {},
   "outputs": [
    {
     "name": "stdout",
     "output_type": "stream",
     "text": [
      "0.05\n"
     ]
    },
    {
     "name": "stderr",
     "output_type": "stream",
     "text": [
      "running validation set: 100%|██████████| 64/64 [00:21<00:00,  3.02it/s]\n"
     ]
    },
    {
     "name": "stdout",
     "output_type": "stream",
     "text": [
      "0.1\n"
     ]
    },
    {
     "name": "stderr",
     "output_type": "stream",
     "text": [
      "running validation set: 100%|██████████| 64/64 [00:21<00:00,  2.91it/s]\n"
     ]
    },
    {
     "name": "stdout",
     "output_type": "stream",
     "text": [
      "0.15000000000000002\n"
     ]
    },
    {
     "name": "stderr",
     "output_type": "stream",
     "text": [
      "running validation set: 100%|██████████| 64/64 [00:20<00:00,  3.06it/s]\n"
     ]
    },
    {
     "name": "stdout",
     "output_type": "stream",
     "text": [
      "0.2\n"
     ]
    },
    {
     "name": "stderr",
     "output_type": "stream",
     "text": [
      "running validation set: 100%|██████████| 64/64 [00:22<00:00,  2.90it/s]\n"
     ]
    },
    {
     "name": "stdout",
     "output_type": "stream",
     "text": [
      "0.25\n"
     ]
    },
    {
     "name": "stderr",
     "output_type": "stream",
     "text": [
      "running validation set: 100%|██████████| 64/64 [00:24<00:00,  2.57it/s]\n"
     ]
    },
    {
     "name": "stdout",
     "output_type": "stream",
     "text": [
      "0.30000000000000004\n"
     ]
    },
    {
     "name": "stderr",
     "output_type": "stream",
     "text": [
      "running validation set: 100%|██████████| 64/64 [00:23<00:00,  2.72it/s]\n"
     ]
    },
    {
     "name": "stdout",
     "output_type": "stream",
     "text": [
      "0.35000000000000003\n"
     ]
    },
    {
     "name": "stderr",
     "output_type": "stream",
     "text": [
      "running validation set: 100%|██████████| 64/64 [00:22<00:00,  2.85it/s]\n"
     ]
    },
    {
     "name": "stdout",
     "output_type": "stream",
     "text": [
      "0.4\n"
     ]
    },
    {
     "name": "stderr",
     "output_type": "stream",
     "text": [
      "running validation set: 100%|██████████| 64/64 [00:20<00:00,  3.06it/s]\n"
     ]
    },
    {
     "name": "stdout",
     "output_type": "stream",
     "text": [
      "0.45\n"
     ]
    },
    {
     "name": "stderr",
     "output_type": "stream",
     "text": [
      "running validation set: 100%|██████████| 64/64 [00:20<00:00,  3.06it/s]\n"
     ]
    },
    {
     "name": "stdout",
     "output_type": "stream",
     "text": [
      "0.5\n"
     ]
    },
    {
     "name": "stderr",
     "output_type": "stream",
     "text": [
      "running validation set: 100%|██████████| 64/64 [00:21<00:00,  2.93it/s]\n"
     ]
    },
    {
     "name": "stdout",
     "output_type": "stream",
     "text": [
      "0.55\n"
     ]
    },
    {
     "name": "stderr",
     "output_type": "stream",
     "text": [
      "running validation set: 100%|██████████| 64/64 [00:20<00:00,  3.12it/s]\n"
     ]
    },
    {
     "data": {
      "image/png": "[encoded data removed]",
      "text/plain": [
       "<Figure size 640x480 with 1 Axes>"
      ]
     },
     "metadata": {},
     "output_type": "display_data"
    }
   ],
   "source": [
    "metric_sp_minp = utils.minP_check_helper(simple_prompt_exp,temp=0.2) # a small increase temp \n",
    "fig_minp = utils.plot_metrics(metric_sp_minp,x_key='min_p',y_key='f1_score',title='minp Param Check')\n",
    "fig_minp.savefig(f'{plots_base_path}/minp_param_plot.png')"
   ]
  },
  {
   "cell_type": "code",
   "execution_count": 15,
   "id": "9864dea0",
   "metadata": {},
   "outputs": [
    {
     "data": {
      "image/png": "[encoded data removed]",
      "text/plain": [
       "<Figure size 640x480 with 1 Axes>"
      ]
     },
     "metadata": {},
     "output_type": "display_data"
    }
   ],
   "source": [
    "_ = utils.plot_metrics(metric_sp_minp,x_key='min_p',y_key='valid_answer_ratio',title='valid answer ratio Param Check')"
   ]
  },
  {
   "cell_type": "code",
   "execution_count": 13,
   "id": "30624afe",
   "metadata": {},
   "outputs": [],
   "source": [
    "# no need to run again because minp and temp config doesn't have any affect"
   ]
  },
  {
   "cell_type": "code",
   "execution_count": 19,
   "id": "01002e5e",
   "metadata": {},
   "outputs": [
    {
     "name": "stderr",
     "output_type": "stream",
     "text": [
      "running validation set: 100%|██████████| 256/256 [01:45<00:00,  2.43it/s]"
     ]
    },
    {
     "name": "stdout",
     "output_type": "stream",
     "text": [
      "{'accuracy': 0.8385826771653543,\n",
      " 'confusion_matrix': array([[149,   6],\n",
      "       [ 35,  64]]),\n",
      " 'f1_score': 0.757396449704142,\n",
      " 'precision': 0.9142857142857143,\n",
      " 'recall': 0.6464646464646465,\n",
      " 'valid_answer_ratio': np.float64(0.9921875)}\n"
     ]
    },
    {
     "name": "stderr",
     "output_type": "stream",
     "text": [
      "\n"
     ]
    },
    {
     "data": {
      "image/png": "[encoded data removed]",
      "text/plain": [
       "<Figure size 640x480 with 2 Axes>"
      ]
     },
     "metadata": {},
     "output_type": "display_data"
    }
   ],
   "source": [
    "simple_prompt_exp.valid_ds = test_ds\n",
    "simple_prompt_exp.temperature = 0.2\n",
    "simple_prompt_exp.min_p = 0.45\n",
    "simple_prompt_small_test = simple_prompt_exp().eval()\n",
    "small_model_test_fig=utils.plot_cm(simple_prompt_small_test['confusion_matrix'])\n",
    "small_model_test_fig.savefig(f\"{plots_base_path}/cm_small_test.png\")\n",
    "pprint(simple_prompt_small_test)"
   ]
  },
  {
   "cell_type": "code",
   "execution_count": null,
   "id": "c4fbc39c",
   "metadata": {},
   "outputs": [],
   "source": []
  }
 ],
 "metadata": {
  "kernelspec": {
   "display_name": ".venv",
   "language": "python",
   "name": "python3"
  },
  "language_info": {
   "codemirror_mode": {
    "name": "ipython",
    "version": 3
   },
   "file_extension": ".py",
   "mimetype": "text/x-python",
   "name": "python",
   "nbconvert_exporter": "python",
   "pygments_lexer": "ipython3",
   "version": "3.13.3"
  }
 },
 "nbformat": 4,
 "nbformat_minor": 5
}
